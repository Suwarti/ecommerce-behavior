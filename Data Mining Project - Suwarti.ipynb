{
  "nbformat": 4,
  "nbformat_minor": 0,
  "metadata": {
    "kernelspec": {
      "language": "python",
      "display_name": "Python 3",
      "name": "python3"
    },
    "language_info": {
      "name": "python",
      "version": "3.7.10",
      "mimetype": "text/x-python",
      "codemirror_mode": {
        "name": "ipython",
        "version": 3
      },
      "pygments_lexer": "ipython3",
      "nbconvert_exporter": "python",
      "file_extension": ".py"
    },
    "colab": {
      "name": "datamining-suwarti-1.ipynb",
      "provenance": []
    }
  },
  "cells": [
    {
      "cell_type": "markdown",
      "metadata": {
        "id": "tCm6T5HMHnoJ"
      },
      "source": [
        "# **E-Commerce Behavior Data**\n",
        "# Data Mining Project By Suwarti"
      ]
    },
    {
      "cell_type": "markdown",
      "metadata": {
        "id": "t8bAPc76HnoN"
      },
      "source": [
        "## **Business Understanding**\n",
        "\n",
        "#### * E-Commerce is a business model that lets firms and individuals buy and sell things over the internet.\n",
        "\n",
        "#### * This case has some business question using the data:\n",
        "#### - What is the best product to sell in the specific time of the day?\n",
        "#### - What is the best Event to predict that User most likely to buy a product?\n",
        "#### - How is the behaviour of our repeat user vs new user?\n"
      ]
    },
    {
      "cell_type": "markdown",
      "metadata": {
        "id": "C9rvrdsFHnoO"
      },
      "source": [
        "## **Data Understanding**\n",
        "\n",
        "#### * Behavior data for October 2019 from a large multi-category online store. Each row in the file\n",
        "#### represents an event. All events are related to products and users. Each event is like many-to\n",
        "#### many relation between products and users.\n",
        "\n",
        "\n",
        "#### * Source Data: https://www.kaggle.com/mkechinov/ecommerce-behavior-data-from-multi-category-store\n",
        "\n",
        "\n",
        "#### * Data Dictionary:\n",
        "\n",
        "#### - event_time: Time when event happened at (in UTC).\n",
        "\n",
        "#### - event_type: Only one kind of event: purchase.\n",
        "\n",
        "#### - product_id: ID of a product\n",
        "\n",
        "#### - category_id: Product's category ID\n",
        "\n",
        "#### - category_code: Product's category taxonomy (code name) if it was possible to make it. Usually \n",
        "####   present for meaningful categories and skipped for different kinds of accessories.\n",
        "\n",
        "#### - brand: Downcased string of brand name. Can be missed.\n",
        "\n",
        "#### - price: Float price of a product. Present.\n",
        "\n",
        "#### - user_id: Permanent user ID.\n",
        "\n",
        "#### - user_session: Temporary user's session ID. Same for each user's session. Is changed every\n",
        "#### time user come back to online store from a long pause.\n"
      ]
    },
    {
      "cell_type": "markdown",
      "metadata": {
        "id": "2uur3mmgHnoP"
      },
      "source": [
        "## **Data preparation**\n",
        "\n",
        "#### * Code Used:\n",
        "#### * Python Version: 3.7.6\n",
        "#### * Packages: Pandas, Numpy and Matplotlib."
      ]
    },
    {
      "cell_type": "markdown",
      "metadata": {
        "id": "BwLLTcSVHnoQ"
      },
      "source": [
        "### **Importing Packages**"
      ]
    },
    {
      "cell_type": "code",
      "metadata": {
        "execution": {
          "iopub.status.busy": "2021-07-19T04:39:58.594311Z",
          "iopub.execute_input": "2021-07-19T04:39:58.594755Z",
          "iopub.status.idle": "2021-07-19T04:39:59.549204Z",
          "shell.execute_reply.started": "2021-07-19T04:39:58.594650Z",
          "shell.execute_reply": "2021-07-19T04:39:59.548126Z"
        },
        "trusted": true,
        "id": "IRKxMKWgHnoR"
      },
      "source": [
        "import pandas as pd\n",
        "import numpy as np\n",
        "import matplotlib.pyplot as plt\n",
        "import seaborn as sns\n",
        "from datetime import datetime as dtime\n",
        "from datetime import date"
      ],
      "execution_count": null,
      "outputs": []
    },
    {
      "cell_type": "markdown",
      "metadata": {
        "id": "Monf70enHnoS"
      },
      "source": [
        "### **Import Dataset**"
      ]
    },
    {
      "cell_type": "code",
      "metadata": {
        "execution": {
          "iopub.status.busy": "2021-07-19T04:39:59.551743Z",
          "iopub.execute_input": "2021-07-19T04:39:59.552050Z",
          "iopub.status.idle": "2021-07-19T04:39:59.567752Z",
          "shell.execute_reply.started": "2021-07-19T04:39:59.552018Z",
          "shell.execute_reply": "2021-07-19T04:39:59.566685Z"
        },
        "trusted": true,
        "id": "XYskJLHQHnoS",
        "outputId": "4dfe2b2b-65d7-479a-b7f2-d7d1bb924645"
      },
      "source": [
        "import os\n",
        "for dirname, _, filenames in os.walk('/kaggle/input'):\n",
        "    for filename in filenames:\n",
        "        print(os.path.join(dirname, filename))"
      ],
      "execution_count": null,
      "outputs": [
        {
          "output_type": "stream",
          "text": [
            "/kaggle/input/ecommerce-behavior-data-from-multi-category-store/2019-Nov.csv\n",
            "/kaggle/input/ecommerce-behavior-data-from-multi-category-store/2019-Oct.csv\n"
          ],
          "name": "stdout"
        }
      ]
    },
    {
      "cell_type": "code",
      "metadata": {
        "execution": {
          "iopub.status.busy": "2021-07-19T04:39:59.569397Z",
          "iopub.execute_input": "2021-07-19T04:39:59.569681Z",
          "iopub.status.idle": "2021-07-19T04:42:20.963146Z",
          "shell.execute_reply.started": "2021-07-19T04:39:59.569653Z",
          "shell.execute_reply": "2021-07-19T04:42:20.961863Z"
        },
        "trusted": true,
        "id": "S4fAmP7UHnoU"
      },
      "source": [
        "df = pd.read_csv(\"/kaggle/input/ecommerce-behavior-data-from-multi-category-store/2019-Oct.csv\")"
      ],
      "execution_count": null,
      "outputs": []
    },
    {
      "cell_type": "markdown",
      "metadata": {
        "id": "VfFM27SsHnoU"
      },
      "source": [
        "### **Check Dataset**"
      ]
    },
    {
      "cell_type": "code",
      "metadata": {
        "execution": {
          "iopub.status.busy": "2021-07-19T04:42:20.965651Z",
          "iopub.execute_input": "2021-07-19T04:42:20.965995Z",
          "iopub.status.idle": "2021-07-19T04:42:21.001791Z",
          "shell.execute_reply.started": "2021-07-19T04:42:20.965952Z",
          "shell.execute_reply": "2021-07-19T04:42:21.000713Z"
        },
        "trusted": true,
        "id": "gRS82fSvHnoV",
        "outputId": "a58f89df-9e49-4f85-b988-440b0991fcd6"
      },
      "source": [
        "df.info()"
      ],
      "execution_count": null,
      "outputs": [
        {
          "output_type": "stream",
          "text": [
            "<class 'pandas.core.frame.DataFrame'>\n",
            "RangeIndex: 42448764 entries, 0 to 42448763\n",
            "Data columns (total 9 columns):\n",
            " #   Column         Dtype  \n",
            "---  ------         -----  \n",
            " 0   event_time     object \n",
            " 1   event_type     object \n",
            " 2   product_id     int64  \n",
            " 3   category_id    int64  \n",
            " 4   category_code  object \n",
            " 5   brand          object \n",
            " 6   price          float64\n",
            " 7   user_id        int64  \n",
            " 8   user_session   object \n",
            "dtypes: float64(1), int64(3), object(5)\n",
            "memory usage: 2.8+ GB\n"
          ],
          "name": "stdout"
        }
      ]
    },
    {
      "cell_type": "markdown",
      "metadata": {
        "id": "HMRLv0U5HnoV"
      },
      "source": [
        "## **Data Cleansing**\n",
        "\n",
        "* Check for each column and find if any column is redundant or useless.\n",
        "* Check for missing values.\n",
        "* Check for outliers.\n",
        "* Check if the data format is already suitable for algorithm.\n",
        "* Check for value that are not consistent with general common sense.\n",
        "\n"
      ]
    },
    {
      "cell_type": "code",
      "metadata": {
        "execution": {
          "iopub.status.busy": "2021-07-19T04:42:21.003178Z",
          "iopub.execute_input": "2021-07-19T04:42:21.003475Z",
          "iopub.status.idle": "2021-07-19T04:48:42.213312Z",
          "shell.execute_reply.started": "2021-07-19T04:42:21.003446Z",
          "shell.execute_reply": "2021-07-19T04:48:42.212274Z"
        },
        "trusted": true,
        "id": "Vkoon-IDHnoV"
      },
      "source": [
        "df['event_time'] = pd.to_datetime(df['event_time'])"
      ],
      "execution_count": null,
      "outputs": []
    },
    {
      "cell_type": "markdown",
      "metadata": {
        "id": "atcNMLziHnoW"
      },
      "source": [
        "## **Exploratory Data Analysis**"
      ]
    },
    {
      "cell_type": "markdown",
      "metadata": {
        "id": "EZS-LrArHnoW"
      },
      "source": [
        "#### **the best product to sell in the specific time of the day**"
      ]
    },
    {
      "cell_type": "code",
      "metadata": {
        "execution": {
          "iopub.status.busy": "2021-07-19T04:48:42.214644Z",
          "iopub.execute_input": "2021-07-19T04:48:42.215087Z",
          "iopub.status.idle": "2021-07-19T04:49:10.877634Z",
          "shell.execute_reply.started": "2021-07-19T04:48:42.215053Z",
          "shell.execute_reply": "2021-07-19T04:49:10.876719Z"
        },
        "trusted": true,
        "id": "wYAizz9FHnoW",
        "outputId": "5e9735cf-92fe-443f-b8b1-ad08c11d0842"
      },
      "source": [
        "df[\"event_time\"].dt.day_name().value_counts()"
      ],
      "execution_count": null,
      "outputs": [
        {
          "output_type": "execute_result",
          "data": {
            "text/plain": [
              "Tuesday      6801885\n",
              "Wednesday    6652532\n",
              "Thursday     6380367\n",
              "Sunday       5855995\n",
              "Friday       5829660\n",
              "Saturday     5606796\n",
              "Monday       5321529\n",
              "Name: event_time, dtype: int64"
            ]
          },
          "metadata": {
            "tags": []
          },
          "execution_count": 6
        }
      ]
    },
    {
      "cell_type": "code",
      "metadata": {
        "execution": {
          "iopub.status.busy": "2021-07-19T04:49:10.878858Z",
          "iopub.execute_input": "2021-07-19T04:49:10.879139Z",
          "iopub.status.idle": "2021-07-19T04:49:13.902834Z",
          "shell.execute_reply.started": "2021-07-19T04:49:10.879109Z",
          "shell.execute_reply": "2021-07-19T04:49:13.901785Z"
        },
        "trusted": true,
        "id": "OtU2NnRKHnoX",
        "outputId": "2834fb22-b15b-4018-90d2-fe2b792f3c31"
      },
      "source": [
        "df[\"event_type\"].unique()"
      ],
      "execution_count": null,
      "outputs": [
        {
          "output_type": "execute_result",
          "data": {
            "text/plain": [
              "array(['view', 'purchase', 'cart'], dtype=object)"
            ]
          },
          "metadata": {
            "tags": []
          },
          "execution_count": 7
        }
      ]
    },
    {
      "cell_type": "code",
      "metadata": {
        "execution": {
          "iopub.status.busy": "2021-07-19T04:49:13.906396Z",
          "iopub.execute_input": "2021-07-19T04:49:13.906685Z",
          "iopub.status.idle": "2021-07-19T04:49:20.864161Z",
          "shell.execute_reply.started": "2021-07-19T04:49:13.906655Z",
          "shell.execute_reply": "2021-07-19T04:49:20.863157Z"
        },
        "trusted": true,
        "id": "G3gqajylHnoX"
      },
      "source": [
        "df_not_view = df[df[\"event_type\"] != \"view\"]"
      ],
      "execution_count": null,
      "outputs": []
    },
    {
      "cell_type": "code",
      "metadata": {
        "execution": {
          "iopub.status.busy": "2021-07-19T04:49:20.865984Z",
          "iopub.execute_input": "2021-07-19T04:49:20.866280Z",
          "iopub.status.idle": "2021-07-19T04:49:21.569177Z",
          "shell.execute_reply.started": "2021-07-19T04:49:20.866227Z",
          "shell.execute_reply": "2021-07-19T04:49:21.568134Z"
        },
        "trusted": true,
        "id": "LDOFgKetHnoX",
        "outputId": "88eaf094-d526-4c62-f331-171ee67f579e"
      },
      "source": [
        "df_not_view.info()"
      ],
      "execution_count": null,
      "outputs": [
        {
          "output_type": "stream",
          "text": [
            "<class 'pandas.core.frame.DataFrame'>\n",
            "Int64Index: 1669365 entries, 162 to 42448657\n",
            "Data columns (total 9 columns):\n",
            " #   Column         Non-Null Count    Dtype              \n",
            "---  ------         --------------    -----              \n",
            " 0   event_time     1669365 non-null  datetime64[ns, UTC]\n",
            " 1   event_type     1669365 non-null  object             \n",
            " 2   product_id     1669365 non-null  int64              \n",
            " 3   category_id    1669365 non-null  int64              \n",
            " 4   category_code  1390214 non-null  object             \n",
            " 5   brand          1592254 non-null  object             \n",
            " 6   price          1669365 non-null  float64            \n",
            " 7   user_id        1669365 non-null  int64              \n",
            " 8   user_session   1669363 non-null  object             \n",
            "dtypes: datetime64[ns, UTC](1), float64(1), int64(3), object(4)\n",
            "memory usage: 127.4+ MB\n"
          ],
          "name": "stdout"
        }
      ]
    },
    {
      "cell_type": "code",
      "metadata": {
        "execution": {
          "iopub.status.busy": "2021-07-19T04:49:21.572255Z",
          "iopub.execute_input": "2021-07-19T04:49:21.572567Z",
          "iopub.status.idle": "2021-07-19T04:49:22.639499Z",
          "shell.execute_reply.started": "2021-07-19T04:49:21.572535Z",
          "shell.execute_reply": "2021-07-19T04:49:22.638443Z"
        },
        "trusted": true,
        "id": "bPZnSa9lHnoX",
        "outputId": "c76c0a9d-0658-416a-fbbb-4d3d91b44ec0"
      },
      "source": [
        "df_not_view[\"event_time\"].dt.day_name().value_counts()"
      ],
      "execution_count": null,
      "outputs": [
        {
          "output_type": "execute_result",
          "data": {
            "text/plain": [
              "Tuesday      253566\n",
              "Wednesday    253541\n",
              "Friday       245282\n",
              "Thursday     244883\n",
              "Sunday       232002\n",
              "Saturday     226606\n",
              "Monday       213485\n",
              "Name: event_time, dtype: int64"
            ]
          },
          "metadata": {
            "tags": []
          },
          "execution_count": 10
        }
      ]
    },
    {
      "cell_type": "code",
      "metadata": {
        "execution": {
          "iopub.status.busy": "2021-07-19T04:49:22.641022Z",
          "iopub.execute_input": "2021-07-19T04:49:22.641432Z",
          "iopub.status.idle": "2021-07-19T04:49:28.803685Z",
          "shell.execute_reply.started": "2021-07-19T04:49:22.641389Z",
          "shell.execute_reply": "2021-07-19T04:49:28.802782Z"
        },
        "trusted": true,
        "id": "3CfGi-naHnoY"
      },
      "source": [
        "df_purchased = df[df[\"event_type\"] == \"purchase\"]"
      ],
      "execution_count": null,
      "outputs": []
    },
    {
      "cell_type": "code",
      "metadata": {
        "execution": {
          "iopub.status.busy": "2021-07-19T04:49:28.805332Z",
          "iopub.execute_input": "2021-07-19T04:49:28.805732Z",
          "iopub.status.idle": "2021-07-19T04:49:29.135783Z",
          "shell.execute_reply.started": "2021-07-19T04:49:28.805688Z",
          "shell.execute_reply": "2021-07-19T04:49:29.134976Z"
        },
        "trusted": true,
        "id": "NRdXhI4OHnoY",
        "outputId": "1d9b7587-f5df-49a1-faa4-6d8b20d8752e"
      },
      "source": [
        "df_purchased.info()"
      ],
      "execution_count": null,
      "outputs": [
        {
          "output_type": "stream",
          "text": [
            "<class 'pandas.core.frame.DataFrame'>\n",
            "Int64Index: 742849 entries, 162 to 42448657\n",
            "Data columns (total 9 columns):\n",
            " #   Column         Non-Null Count   Dtype              \n",
            "---  ------         --------------   -----              \n",
            " 0   event_time     742849 non-null  datetime64[ns, UTC]\n",
            " 1   event_type     742849 non-null  object             \n",
            " 2   product_id     742849 non-null  int64              \n",
            " 3   category_id    742849 non-null  int64              \n",
            " 4   category_code  569424 non-null  object             \n",
            " 5   brand          684544 non-null  object             \n",
            " 6   price          742849 non-null  float64            \n",
            " 7   user_id        742849 non-null  int64              \n",
            " 8   user_session   742849 non-null  object             \n",
            "dtypes: datetime64[ns, UTC](1), float64(1), int64(3), object(4)\n",
            "memory usage: 56.7+ MB\n"
          ],
          "name": "stdout"
        }
      ]
    },
    {
      "cell_type": "code",
      "metadata": {
        "execution": {
          "iopub.status.busy": "2021-07-19T04:49:29.138805Z",
          "iopub.execute_input": "2021-07-19T04:49:29.139102Z",
          "iopub.status.idle": "2021-07-19T04:49:29.614608Z",
          "shell.execute_reply.started": "2021-07-19T04:49:29.139070Z",
          "shell.execute_reply": "2021-07-19T04:49:29.613366Z"
        },
        "trusted": true,
        "id": "eLzp87kPHnoY",
        "outputId": "a46f16b5-1b77-4c0e-ba51-67fc87ad6ebd"
      },
      "source": [
        "df_purchased[\"event_time\"].dt.day_name().value_counts()"
      ],
      "execution_count": null,
      "outputs": [
        {
          "output_type": "execute_result",
          "data": {
            "text/plain": [
              "Wednesday    119159\n",
              "Tuesday      114510\n",
              "Thursday     113664\n",
              "Friday       103044\n",
              "Sunday       100233\n",
              "Saturday      96177\n",
              "Monday        96062\n",
              "Name: event_time, dtype: int64"
            ]
          },
          "metadata": {
            "tags": []
          },
          "execution_count": 13
        }
      ]
    },
    {
      "cell_type": "code",
      "metadata": {
        "execution": {
          "iopub.status.busy": "2021-07-19T04:49:29.615754Z",
          "iopub.execute_input": "2021-07-19T04:49:29.616023Z",
          "iopub.status.idle": "2021-07-19T04:49:30.338993Z",
          "shell.execute_reply.started": "2021-07-19T04:49:29.615996Z",
          "shell.execute_reply": "2021-07-19T04:49:30.338041Z"
        },
        "trusted": true,
        "id": "gTcKdWcSHnoZ",
        "outputId": "25d0ea93-6865-44bb-e9fd-9be7d2c69444"
      },
      "source": [
        "fig, ax = plt.subplots()\n",
        "\n",
        "ax.set_xlabel('User Count')\n",
        "ax.set_ylabel('Day')\n",
        "ax.set_title('User Count By Day')\n",
        "\n",
        "\n",
        "df_purchased[\"event_time\"].dt.day_name().value_counts().sort_values().plot(kind='barh');"
      ],
      "execution_count": null,
      "outputs": [
        {
          "output_type": "display_data",
          "data": {
            "text/plain": [
              "<Figure size 432x288 with 1 Axes>"
            ],
            "image/png": "[encoded data removed]"
          },
          "metadata": {
            "tags": [],
            "needs_background": "light"
          }
        }
      ]
    },
    {
      "cell_type": "markdown",
      "metadata": {
        "id": "mNl9vTqCHnoa"
      },
      "source": [
        "#### Most consumers shop at e-commerce on Wednesday. Actually, consumers have seen the product since Sunday. After Sunday consumers are still considering whether to buy or not. Beside that consumers are still comparing one product to another. The final decision to buy is mostly made on Wednesday. The e-commerce business team can provide a campaign to convince customers. The campaign can be intensified on Wednesday.\n"
      ]
    },
    {
      "cell_type": "markdown",
      "metadata": {
        "id": "F214xYbAHnoa"
      },
      "source": [
        "#### **the best Event to predict that User most likely to buy a product**"
      ]
    },
    {
      "cell_type": "code",
      "metadata": {
        "execution": {
          "iopub.status.busy": "2021-07-19T04:49:30.340270Z",
          "iopub.execute_input": "2021-07-19T04:49:30.340575Z",
          "iopub.status.idle": "2021-07-19T04:49:30.769496Z",
          "shell.execute_reply.started": "2021-07-19T04:49:30.340544Z",
          "shell.execute_reply": "2021-07-19T04:49:30.768606Z"
        },
        "trusted": true,
        "id": "kTd53MK4Hnoa",
        "outputId": "4a922901-40dc-4ac3-9a5c-aac5209efce5"
      },
      "source": [
        "df_purchased[df_purchased[\"event_time\"].dt.day_name()==\"Wednesday\"][\"brand\"].value_counts().head(10)"
      ],
      "execution_count": null,
      "outputs": [
        {
          "output_type": "execute_result",
          "data": {
            "text/plain": [
              "samsung     28216\n",
              "apple       23469\n",
              "xiaomi       9042\n",
              "huawei       3745\n",
              "lucente      2012\n",
              "cordiant     1612\n",
              "oppo         1594\n",
              "lg           1287\n",
              "acer         1119\n",
              "artel        1046\n",
              "Name: brand, dtype: int64"
            ]
          },
          "metadata": {
            "tags": []
          },
          "execution_count": 15
        }
      ]
    },
    {
      "cell_type": "code",
      "metadata": {
        "execution": {
          "iopub.status.busy": "2021-07-19T04:49:30.770809Z",
          "iopub.execute_input": "2021-07-19T04:49:30.771094Z",
          "iopub.status.idle": "2021-07-19T04:49:31.359194Z",
          "shell.execute_reply.started": "2021-07-19T04:49:30.771064Z",
          "shell.execute_reply": "2021-07-19T04:49:31.358461Z"
        },
        "trusted": true,
        "id": "YCZAKyOLHnob",
        "outputId": "ae52eaa0-85ba-4e3f-ad1a-11fe6d8ed7f8"
      },
      "source": [
        "fig, ax = plt.subplots()\n",
        "\n",
        "ax.set_xlabel('User Count')\n",
        "ax.set_ylabel('Brand')\n",
        "ax.set_title('User Count By Brand')\n",
        "\n",
        "df_purchased[df_purchased[\"event_time\"].dt.day_name()==\"Wednesday\"][\"brand\"].value_counts().head(10).sort_values().plot(kind='barh');"
      ],
      "execution_count": null,
      "outputs": [
        {
          "output_type": "display_data",
          "data": {
            "text/plain": [
              "<Figure size 432x288 with 1 Axes>"
            ],
            "image/png": "[encoded data removed]"
          },
          "metadata": {
            "tags": [],
            "needs_background": "light"
          }
        }
      ]
    },
    {
      "cell_type": "markdown",
      "metadata": {
        "id": "ekWCIjkfHnob"
      },
      "source": [
        "#### Many consumers choose brand Samsung because it already has a strong and positive image for the smartphone segment. Samsung also has a simple and trend-following model. In addition, Samsung is diligent in innovating and releasing the latest technology. Seeing Samsung's very large consumer market, the e-commerce business team can make bundling package promos to expand the market.\n"
      ]
    },
    {
      "cell_type": "markdown",
      "metadata": {
        "id": "TN6GSbV6Hnoc"
      },
      "source": [
        "#### **the behaviour of our repeat user vs new user**"
      ]
    },
    {
      "cell_type": "markdown",
      "metadata": {
        "id": "uQ4mgTMqHnoc"
      },
      "source": [
        "##### disclaimer:\n",
        "* I defined user that customer who purchase the product and cart the product (written as \"not_view\")\n",
        "* new customer: not_view_count is just one\n",
        "* repeat customer: not_view_count is more than one"
      ]
    },
    {
      "cell_type": "code",
      "metadata": {
        "execution": {
          "iopub.status.busy": "2021-07-19T04:49:31.360420Z",
          "iopub.execute_input": "2021-07-19T04:49:31.360898Z",
          "iopub.status.idle": "2021-07-19T04:49:34.655844Z",
          "shell.execute_reply.started": "2021-07-19T04:49:31.360865Z",
          "shell.execute_reply": "2021-07-19T04:49:34.654856Z"
        },
        "trusted": true,
        "id": "7yIQrB0rHnoc",
        "outputId": "162bc1b7-e578-49cd-e1d0-1f014efa2c25"
      },
      "source": [
        "df[\"user_id\"].value_counts().values"
      ],
      "execution_count": null,
      "outputs": [
        {
          "output_type": "execute_result",
          "data": {
            "text/plain": [
              "array([7436, 4013, 2912, ...,    1,    1,    1])"
            ]
          },
          "metadata": {
            "tags": []
          },
          "execution_count": 17
        }
      ]
    },
    {
      "cell_type": "code",
      "metadata": {
        "execution": {
          "iopub.status.busy": "2021-07-19T04:49:34.657112Z",
          "iopub.execute_input": "2021-07-19T04:49:34.657399Z",
          "iopub.status.idle": "2021-07-19T04:49:34.665800Z",
          "shell.execute_reply.started": "2021-07-19T04:49:34.657372Z",
          "shell.execute_reply": "2021-07-19T04:49:34.664999Z"
        },
        "trusted": true,
        "id": "zIlJldIRHnod"
      },
      "source": [
        "import pandasql"
      ],
      "execution_count": null,
      "outputs": []
    },
    {
      "cell_type": "code",
      "metadata": {
        "execution": {
          "iopub.status.busy": "2021-07-19T04:49:34.666969Z",
          "iopub.execute_input": "2021-07-19T04:49:34.667248Z",
          "iopub.status.idle": "2021-07-19T04:50:29.544560Z",
          "shell.execute_reply.started": "2021-07-19T04:49:34.667205Z",
          "shell.execute_reply": "2021-07-19T04:50:29.543508Z"
        },
        "trusted": true,
        "id": "W2-gDSP7Hnoe"
      },
      "source": [
        "user_count = pandasql.sqldf(\"\"\"\n",
        "\n",
        "select user_id, count(*) as counts\n",
        "from df_not_view\n",
        "group by 1 \n",
        "order by 2 desc\n",
        "\n",
        "\"\"\")"
      ],
      "execution_count": null,
      "outputs": []
    },
    {
      "cell_type": "markdown",
      "metadata": {
        "id": "UoXWXCjxHnoe"
      },
      "source": [
        "#### #new user"
      ]
    },
    {
      "cell_type": "code",
      "metadata": {
        "execution": {
          "iopub.status.busy": "2021-07-19T04:50:29.545896Z",
          "iopub.execute_input": "2021-07-19T04:50:29.546177Z",
          "iopub.status.idle": "2021-07-19T04:50:31.269495Z",
          "shell.execute_reply.started": "2021-07-19T04:50:29.546149Z",
          "shell.execute_reply": "2021-07-19T04:50:31.268577Z"
        },
        "trusted": true,
        "id": "Jw44vem1Hnoe"
      },
      "source": [
        "df_not_view_count = pd.merge(df_not_view, user_count, on =\"user_id\")"
      ],
      "execution_count": null,
      "outputs": []
    },
    {
      "cell_type": "code",
      "metadata": {
        "execution": {
          "iopub.status.busy": "2021-07-19T04:50:31.270627Z",
          "iopub.execute_input": "2021-07-19T04:50:31.270902Z",
          "iopub.status.idle": "2021-07-19T04:50:31.835962Z",
          "shell.execute_reply.started": "2021-07-19T04:50:31.270876Z",
          "shell.execute_reply": "2021-07-19T04:50:31.835006Z"
        },
        "trusted": true,
        "id": "Zr8f5QGMHnoe"
      },
      "source": [
        "user_repeat = df_not_view_count[df_not_view_count[\"counts\"] >1]\n",
        "user_new = df_not_view_count[df_not_view_count[\"counts\"] == 1]"
      ],
      "execution_count": null,
      "outputs": []
    },
    {
      "cell_type": "code",
      "metadata": {
        "execution": {
          "iopub.status.busy": "2021-07-19T04:50:31.837468Z",
          "iopub.execute_input": "2021-07-19T04:50:31.837861Z",
          "iopub.status.idle": "2021-07-19T04:50:31.894225Z",
          "shell.execute_reply.started": "2021-07-19T04:50:31.837811Z",
          "shell.execute_reply": "2021-07-19T04:50:31.893368Z"
        },
        "trusted": true,
        "id": "o8D0vD_3Hnof",
        "outputId": "8c1f4035-4f89-4707-a233-01003aca4571"
      },
      "source": [
        "user_new[\"event_type\"].value_counts()"
      ],
      "execution_count": null,
      "outputs": [
        {
          "output_type": "execute_result",
          "data": {
            "text/plain": [
              "purchase    106775\n",
              "cart         87605\n",
              "Name: event_type, dtype: int64"
            ]
          },
          "metadata": {
            "tags": []
          },
          "execution_count": 22
        }
      ]
    },
    {
      "cell_type": "code",
      "metadata": {
        "execution": {
          "iopub.status.busy": "2021-07-19T04:50:31.897681Z",
          "iopub.execute_input": "2021-07-19T04:50:31.898056Z",
          "iopub.status.idle": "2021-07-19T04:50:32.089998Z",
          "shell.execute_reply.started": "2021-07-19T04:50:31.898024Z",
          "shell.execute_reply": "2021-07-19T04:50:32.088828Z"
        },
        "trusted": true,
        "id": "ozR-7eHgHnof",
        "outputId": "d0348c92-9622-48b7-e4a7-087284da5cd4"
      },
      "source": [
        "fig, ax = plt.subplots()\n",
        "\n",
        "ax.set_xlabel('Event Type')\n",
        "ax.set_ylabel('User Count')\n",
        "ax.set_title('The Behaviour of New User by Event Type')\n",
        "\n",
        "\n",
        "user_new[\"event_type\"].value_counts().plot(kind='bar');"
      ],
      "execution_count": null,
      "outputs": [
        {
          "output_type": "display_data",
          "data": {
            "text/plain": [
              "<Figure size 432x288 with 1 Axes>"
            ],
            "image/png": "[encoded data removed]"
          },
          "metadata": {
            "tags": [],
            "needs_background": "light"
          }
        }
      ]
    },
    {
      "cell_type": "code",
      "metadata": {
        "execution": {
          "iopub.status.busy": "2021-07-19T04:50:32.092077Z",
          "iopub.execute_input": "2021-07-19T04:50:32.092535Z",
          "iopub.status.idle": "2021-07-19T04:50:32.144636Z",
          "shell.execute_reply.started": "2021-07-19T04:50:32.092489Z",
          "shell.execute_reply": "2021-07-19T04:50:32.143580Z"
        },
        "trusted": true,
        "id": "HtD6dC0BHnof",
        "outputId": "45121782-e87d-42d0-f3ac-74cc84fcadc0"
      },
      "source": [
        "user_new[\"category_code\"].value_counts().head()"
      ],
      "execution_count": null,
      "outputs": [
        {
          "output_type": "execute_result",
          "data": {
            "text/plain": [
              "electronics.smartphone         70249\n",
              "electronics.audio.headphone     8527\n",
              "electronics.video.tv            6257\n",
              "appliances.kitchen.washer       5133\n",
              "electronics.clocks              4780\n",
              "Name: category_code, dtype: int64"
            ]
          },
          "metadata": {
            "tags": []
          },
          "execution_count": 24
        }
      ]
    },
    {
      "cell_type": "code",
      "metadata": {
        "execution": {
          "iopub.status.busy": "2021-07-19T04:50:32.145888Z",
          "iopub.execute_input": "2021-07-19T04:50:32.146184Z",
          "iopub.status.idle": "2021-07-19T04:50:32.365781Z",
          "shell.execute_reply.started": "2021-07-19T04:50:32.146156Z",
          "shell.execute_reply": "2021-07-19T04:50:32.364837Z"
        },
        "trusted": true,
        "id": "HIvLqo1FHnog",
        "outputId": "39175b01-6cad-4a01-bc80-67953be1f872"
      },
      "source": [
        "fig, ax = plt.subplots()\n",
        "\n",
        "ax.set_xlabel('User Count')\n",
        "ax.set_ylabel('Category Product')\n",
        "ax.set_title('The Behaviour of New User by Category Product')\n",
        "\n",
        "user_new[\"category_code\"].value_counts().head().sort_values().plot(kind='barh');"
      ],
      "execution_count": null,
      "outputs": [
        {
          "output_type": "display_data",
          "data": {
            "text/plain": [
              "<Figure size 432x288 with 1 Axes>"
            ],
            "image/png": "[encoded data removed]"
          },
          "metadata": {
            "tags": [],
            "needs_background": "light"
          }
        }
      ]
    },
    {
      "cell_type": "markdown",
      "metadata": {
        "id": "i8Z627Q4Hnog"
      },
      "source": [
        "#### Most new users buy smartphone electronics products. The e-commerce business team can make promo of this product category to attract more new market users."
      ]
    },
    {
      "cell_type": "code",
      "metadata": {
        "execution": {
          "iopub.status.busy": "2021-07-19T04:50:32.367042Z",
          "iopub.execute_input": "2021-07-19T04:50:32.367329Z",
          "iopub.status.idle": "2021-07-19T04:50:32.380824Z",
          "shell.execute_reply.started": "2021-07-19T04:50:32.367301Z",
          "shell.execute_reply": "2021-07-19T04:50:32.379702Z"
        },
        "trusted": true,
        "id": "LolaAomkHnog",
        "outputId": "b2a76eb0-b79c-4ac4-c36a-b8c551743c25"
      },
      "source": [
        "user_new[\"price\"].value_counts().head()"
      ],
      "execution_count": null,
      "outputs": [
        {
          "output_type": "execute_result",
          "data": {
            "text/plain": [
              "131.53    1112\n",
              "130.99     902\n",
              "257.15     809\n",
              "131.64     770\n",
              "40.93      687\n",
              "Name: price, dtype: int64"
            ]
          },
          "metadata": {
            "tags": []
          },
          "execution_count": 26
        }
      ]
    },
    {
      "cell_type": "code",
      "metadata": {
        "execution": {
          "iopub.status.busy": "2021-07-19T04:50:32.382283Z",
          "iopub.execute_input": "2021-07-19T04:50:32.382608Z",
          "iopub.status.idle": "2021-07-19T04:50:32.532148Z",
          "shell.execute_reply.started": "2021-07-19T04:50:32.382577Z",
          "shell.execute_reply": "2021-07-19T04:50:32.531154Z"
        },
        "trusted": true,
        "id": "i630R3qzHnoh",
        "outputId": "aeac9711-eded-4dff-f924-c3ee792533ef"
      },
      "source": [
        "fig, ax = plt.subplots()\n",
        "\n",
        "ax.set_xlabel('User Count')\n",
        "ax.set_ylabel('Price')\n",
        "ax.set_title('The Behaviour of New User by Price')\n",
        "\n",
        "user_new[\"price\"].value_counts().head().sort_values().plot(kind='barh');"
      ],
      "execution_count": null,
      "outputs": [
        {
          "output_type": "display_data",
          "data": {
            "text/plain": [
              "<Figure size 432x288 with 1 Axes>"
            ],
            "image/png": "[encoded data removed]"
          },
          "metadata": {
            "tags": [],
            "needs_background": "light"
          }
        }
      ]
    },
    {
      "cell_type": "markdown",
      "metadata": {
        "id": "POPX4eV6Hnoh"
      },
      "source": [
        "#### #repeat user"
      ]
    },
    {
      "cell_type": "code",
      "metadata": {
        "execution": {
          "iopub.status.busy": "2021-07-19T04:50:32.533532Z",
          "iopub.execute_input": "2021-07-19T04:50:32.533837Z",
          "iopub.status.idle": "2021-07-19T04:50:32.539558Z",
          "shell.execute_reply.started": "2021-07-19T04:50:32.533806Z",
          "shell.execute_reply": "2021-07-19T04:50:32.538481Z"
        },
        "trusted": true,
        "id": "nWes7WKhHnoi",
        "outputId": "cf4b0564-0af4-44d9-ee9c-01fcbe99fd7c"
      },
      "source": [
        "user_repeat.columns"
      ],
      "execution_count": null,
      "outputs": [
        {
          "output_type": "execute_result",
          "data": {
            "text/plain": [
              "Index(['event_time', 'event_type', 'product_id', 'category_id',\n",
              "       'category_code', 'brand', 'price', 'user_id', 'user_session', 'counts'],\n",
              "      dtype='object')"
            ]
          },
          "metadata": {
            "tags": []
          },
          "execution_count": 28
        }
      ]
    },
    {
      "cell_type": "code",
      "metadata": {
        "execution": {
          "iopub.status.busy": "2021-07-19T04:50:32.540943Z",
          "iopub.execute_input": "2021-07-19T04:50:32.541226Z",
          "iopub.status.idle": "2021-07-19T04:50:32.921274Z",
          "shell.execute_reply.started": "2021-07-19T04:50:32.541200Z",
          "shell.execute_reply": "2021-07-19T04:50:32.920324Z"
        },
        "trusted": true,
        "id": "j7CzEt2kHnoi",
        "outputId": "7158913d-6b4e-44b3-e6a1-9c401c05efa6"
      },
      "source": [
        "user_repeat[\"event_type\"].value_counts()"
      ],
      "execution_count": null,
      "outputs": [
        {
          "output_type": "execute_result",
          "data": {
            "text/plain": [
              "cart        838911\n",
              "purchase    636074\n",
              "Name: event_type, dtype: int64"
            ]
          },
          "metadata": {
            "tags": []
          },
          "execution_count": 29
        }
      ]
    },
    {
      "cell_type": "code",
      "metadata": {
        "execution": {
          "iopub.status.busy": "2021-07-19T04:50:32.922554Z",
          "iopub.execute_input": "2021-07-19T04:50:32.922878Z",
          "iopub.status.idle": "2021-07-19T04:50:33.440496Z",
          "shell.execute_reply.started": "2021-07-19T04:50:32.922848Z",
          "shell.execute_reply": "2021-07-19T04:50:33.439464Z"
        },
        "trusted": true,
        "id": "-wmf7D0AHnoi",
        "outputId": "f18e8dea-3e1e-46b1-a207-a94782453737"
      },
      "source": [
        "fig, ax = plt.subplots()\n",
        "\n",
        "ax.set_xlabel('Event Type')\n",
        "ax.set_ylabel('User Count')\n",
        "ax.set_title('The Behaviour of Repeat User by Event Type')\n",
        "\n",
        "\n",
        "user_repeat[\"event_type\"].value_counts().plot(kind='bar');"
      ],
      "execution_count": null,
      "outputs": [
        {
          "output_type": "display_data",
          "data": {
            "text/plain": [
              "<Figure size 432x288 with 1 Axes>"
            ],
            "image/png": "[encoded data removed]"
          },
          "metadata": {
            "tags": [],
            "needs_background": "light"
          }
        }
      ]
    },
    {
      "cell_type": "code",
      "metadata": {
        "execution": {
          "iopub.status.busy": "2021-07-19T04:50:33.441888Z",
          "iopub.execute_input": "2021-07-19T04:50:33.442280Z",
          "iopub.status.idle": "2021-07-19T04:50:33.784974Z",
          "shell.execute_reply.started": "2021-07-19T04:50:33.442219Z",
          "shell.execute_reply": "2021-07-19T04:50:33.784248Z"
        },
        "trusted": true,
        "id": "4-j2BGGnHnoi",
        "outputId": "f7b19674-bf6d-4242-db3c-6926634036ff"
      },
      "source": [
        "user_repeat[\"category_code\"].value_counts().head()"
      ],
      "execution_count": null,
      "outputs": [
        {
          "output_type": "execute_result",
          "data": {
            "text/plain": [
              "electronics.smartphone         817534\n",
              "electronics.audio.headphone     73119\n",
              "electronics.video.tv            51532\n",
              "electronics.clocks              33470\n",
              "appliances.kitchen.washer       32992\n",
              "Name: category_code, dtype: int64"
            ]
          },
          "metadata": {
            "tags": []
          },
          "execution_count": 31
        }
      ]
    },
    {
      "cell_type": "code",
      "metadata": {
        "execution": {
          "iopub.status.busy": "2021-07-19T04:50:33.785943Z",
          "iopub.execute_input": "2021-07-19T04:50:33.786203Z",
          "iopub.status.idle": "2021-07-19T04:50:34.302077Z",
          "shell.execute_reply.started": "2021-07-19T04:50:33.786178Z",
          "shell.execute_reply": "2021-07-19T04:50:34.301099Z"
        },
        "trusted": true,
        "id": "aXFiGYUcHnoj",
        "outputId": "f15df56b-d27b-4822-c8e3-3dd9da413359"
      },
      "source": [
        "fig, ax = plt.subplots()\n",
        "\n",
        "ax.set_xlabel('User Count')\n",
        "ax.set_ylabel('Category Product')\n",
        "ax.set_title('The Behaviour of Repeat User by Category Product')\n",
        "\n",
        "user_repeat[\"category_code\"].value_counts().head().sort_values().plot(kind='barh');"
      ],
      "execution_count": null,
      "outputs": [
        {
          "output_type": "display_data",
          "data": {
            "text/plain": [
              "<Figure size 432x288 with 1 Axes>"
            ],
            "image/png": "[encoded data removed]"
          },
          "metadata": {
            "tags": [],
            "needs_background": "light"
          }
        }
      ]
    },
    {
      "cell_type": "markdown",
      "metadata": {
        "id": "jf-orp1sHnoj"
      },
      "source": [
        "#### Most repeat users buy smartphone electronics products. Meanwhile product electronics audio headphones have a very large gap. The e-commerce business team can make product bundling between electronics smartphone products and electronics audio headphones to increase profits from product categories that are still low in orders."
      ]
    },
    {
      "cell_type": "code",
      "metadata": {
        "execution": {
          "iopub.status.busy": "2021-07-19T04:50:34.303624Z",
          "iopub.execute_input": "2021-07-19T04:50:34.304021Z",
          "iopub.status.idle": "2021-07-19T04:50:34.344603Z",
          "shell.execute_reply.started": "2021-07-19T04:50:34.303979Z",
          "shell.execute_reply": "2021-07-19T04:50:34.343549Z"
        },
        "trusted": true,
        "id": "UjFeE3jDHnoj",
        "outputId": "362b9065-c09a-4e76-e5bb-7b45ae2c54da"
      },
      "source": [
        "user_repeat[\"price\"].value_counts().head()"
      ],
      "execution_count": null,
      "outputs": [
        {
          "output_type": "execute_result",
          "data": {
            "text/plain": [
              "131.53    16171\n",
              "131.64    12404\n",
              "130.99    12398\n",
              "131.02     8616\n",
              "358.57     7237\n",
              "Name: price, dtype: int64"
            ]
          },
          "metadata": {
            "tags": []
          },
          "execution_count": 33
        }
      ]
    },
    {
      "cell_type": "code",
      "metadata": {
        "execution": {
          "iopub.status.busy": "2021-07-19T04:50:34.346087Z",
          "iopub.execute_input": "2021-07-19T04:50:34.346512Z",
          "iopub.status.idle": "2021-07-19T04:50:34.535361Z",
          "shell.execute_reply.started": "2021-07-19T04:50:34.346470Z",
          "shell.execute_reply": "2021-07-19T04:50:34.534351Z"
        },
        "trusted": true,
        "id": "XZaJrnQSHnoj",
        "outputId": "be7c60bf-df3b-4680-9b92-25a77f174a7b"
      },
      "source": [
        "fig, ax = plt.subplots()\n",
        "\n",
        "ax.set_xlabel('User Count')\n",
        "ax.set_ylabel('Price')\n",
        "ax.set_title('The Behaviour of Repeat User by Price')\n",
        "\n",
        "user_repeat[\"price\"].value_counts().head().sort_values().plot(kind='barh');"
      ],
      "execution_count": null,
      "outputs": [
        {
          "output_type": "display_data",
          "data": {
            "text/plain": [
              "<Figure size 432x288 with 1 Axes>"
            ],
            "image/png": "[encoded data removed]"
          },
          "metadata": {
            "tags": [],
            "needs_background": "light"
          }
        }
      ]
    },
    {
      "cell_type": "code",
      "metadata": {
        "id": "4sg57cVpHnok"
      },
      "source": [
        ""
      ],
      "execution_count": null,
      "outputs": []
    }
  ]
}